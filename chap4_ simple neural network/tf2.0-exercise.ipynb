{
 "cells": [
  {
   "cell_type": "markdown",
   "metadata": {},
   "source": [
    "# Tensorflow2.0 小练习"
   ]
  },
  {
   "cell_type": "code",
   "execution_count": 1,
   "metadata": {},
   "outputs": [
    {
     "name": "stdout",
     "output_type": "stream",
     "text": [
      "WARNING:tensorflow:From d:\\Python\\Python311\\Lib\\site-packages\\keras\\src\\losses.py:2976: The name tf.losses.sparse_softmax_cross_entropy is deprecated. Please use tf.compat.v1.losses.sparse_softmax_cross_entropy instead.\n",
      "\n"
     ]
    }
   ],
   "source": [
    "import tensorflow as tf\n",
    "import numpy as np"
   ]
  },
  {
   "cell_type": "markdown",
   "metadata": {},
   "source": [
    "## 实现softmax函数"
   ]
  },
  {
   "cell_type": "code",
   "execution_count": 2,
   "metadata": {},
   "outputs": [
    {
     "data": {
      "text/plain": [
       "array([[ True,  True,  True,  True,  True],\n",
       "       [ True,  True,  True,  True,  True],\n",
       "       [ True,  True,  True,  True,  True],\n",
       "       [ True,  True,  True,  True,  True],\n",
       "       [ True,  True,  True,  True,  True],\n",
       "       [ True,  True,  True,  True,  True],\n",
       "       [ True,  True,  True,  True,  True],\n",
       "       [ True,  True,  True,  True,  True],\n",
       "       [ True,  True,  True,  True,  True],\n",
       "       [ True,  True,  True,  True,  True]])"
      ]
     },
     "execution_count": 2,
     "metadata": {},
     "output_type": "execute_result"
    }
   ],
   "source": [
    "def softmax(x):\n",
    "    \"\"\"\n",
    "    对输入的张量进行softmax操作。\n",
    "\n",
    "    参数：\n",
    "    x：输入的张量\n",
    "\n",
    "    返回值：\n",
    "    prob_x：经过softmax操作后的概率分布张量\n",
    "    \"\"\"\n",
    "    # 对输入张量中的每个元素求指数函数\n",
    "    exp_x = tf.exp(x - tf.reduce_max(x, axis=-1, keepdims=True))\n",
    "\n",
    "    # 对指数函数结果进行归一化处理，得到概率分布\n",
    "    prob_x = exp_x / tf.reduce_sum(exp_x, axis=-1, keepdims=True)\n",
    "    \n",
    "    return prob_x\n",
    "\n",
    "\n",
    "test_data = np.random.normal(size=[10, 5])\n",
    "\n",
    "(softmax(test_data).numpy() - tf.nn.softmax(test_data, axis=-1).numpy())**2 <0.0001"
   ]
  },
  {
   "cell_type": "markdown",
   "metadata": {},
   "source": [
    "## 实现sigmoid函数"
   ]
  },
  {
   "cell_type": "code",
   "execution_count": 3,
   "metadata": {},
   "outputs": [
    {
     "data": {
      "text/plain": [
       "array([[ True,  True,  True,  True,  True],\n",
       "       [ True,  True,  True,  True,  True],\n",
       "       [ True,  True,  True,  True,  True],\n",
       "       [ True,  True,  True,  True,  True],\n",
       "       [ True,  True,  True,  True,  True],\n",
       "       [ True,  True,  True,  True,  True],\n",
       "       [ True,  True,  True,  True,  True],\n",
       "       [ True,  True,  True,  True,  True],\n",
       "       [ True,  True,  True,  True,  True],\n",
       "       [ True,  True,  True,  True,  True]])"
      ]
     },
     "execution_count": 3,
     "metadata": {},
     "output_type": "execute_result"
    }
   ],
   "source": [
    "def sigmoid(x):\n",
    "    \"\"\"\n",
    "    对输入的张量进行sigmoid操作。\n",
    "\n",
    "    参数：\n",
    "    x：输入的张量\n",
    "\n",
    "    返回值：\n",
    "    prob_x：经过sigmoid操作后的概率分布张量\n",
    "    \"\"\"\n",
    "    # 计算sigmoid函数值\n",
    "    prob_x = 1 / (1 + tf.exp(-x))\n",
    "    return prob_x\n",
    "\n",
    "\n",
    "test_data = np.random.normal(size=[10, 5])\n",
    "\n",
    "\n",
    "(sigmoid(test_data).numpy() - tf.nn.sigmoid(test_data).numpy())**2 < 0.0001"
   ]
  },
  {
   "cell_type": "markdown",
   "metadata": {},
   "source": [
    "## 实现 softmax 交叉熵loss函数"
   ]
  },
  {
   "cell_type": "code",
   "execution_count": 4,
   "metadata": {},
   "outputs": [
    {
     "data": {
      "text/plain": [
       "True"
      ]
     },
     "execution_count": 4,
     "metadata": {},
     "output_type": "execute_result"
    }
   ],
   "source": [
    "def softmax_ce(x, label):\n",
    "    \"\"\"\n",
    "    计算softmax交叉熵损失函数。\n",
    "\n",
    "    参数：\n",
    "    x：模型的输出概率分布张量\n",
    "    label：实际标签的独热编码张量\n",
    "\n",
    "    返回值：\n",
    "    loss：softmax交叉熵损失值\n",
    "    \"\"\"\n",
    "    # 计算交叉熵损失\n",
    "    loss = -tf.reduce_mean(tf.reduce_sum(label * tf.math.log(x), axis=-1))\n",
    "\n",
    "    return loss\n",
    "\n",
    "\n",
    "test_data = np.random.normal(size=[10, 5])\n",
    "prob = tf.nn.softmax(test_data)\n",
    "\n",
    "\n",
    "label = np.zeros_like(test_data)\n",
    "\n",
    "\n",
    "label[np.arange(10), np.random.randint(0, 5, size=10)]=1.\n",
    "\n",
    "\n",
    "\n",
    "((tf.reduce_mean(tf.nn.softmax_cross_entropy_with_logits(label, test_data))\n",
    "\n",
    "\n",
    "  - softmax_ce(prob, label))**2 < 0.0001).numpy()"
   ]
  },
  {
   "cell_type": "markdown",
   "metadata": {},
   "source": [
    "## 实现 sigmoid 交叉熵loss函数"
   ]
  },
  {
   "cell_type": "code",
   "execution_count": 5,
   "metadata": {},
   "outputs": [
    {
     "name": "stdout",
     "output_type": "stream",
     "text": [
      "[0. 0. 1. 1. 1. 1. 0. 0. 0. 1.]\n"
     ]
    },
    {
     "data": {
      "text/plain": [
       "True"
      ]
     },
     "execution_count": 5,
     "metadata": {},
     "output_type": "execute_result"
    }
   ],
   "source": [
    "def sigmoid_ce(x, label):\n",
    "    \"\"\"\n",
    "    计算sigmoid交叉熵损失函数。\n",
    "\n",
    "    参数：\n",
    "    x：模型的输出概率分布张量\n",
    "    label：实际标签的独热编码张量\n",
    "\n",
    "    返回值：\n",
    "    loss：sigmoid交叉熵损失值\n",
    "    \"\"\"\n",
    "    # 计算交叉熵损失\n",
    "    loss = -tf.reduce_mean(label * tf.math.log(x) +\n",
    "                           (1-label) * tf.math.log(1-x))\n",
    "\n",
    "    return loss\n",
    "\n",
    "\n",
    "\n",
    "test_data = np.random.normal(size=[10])\n",
    "\n",
    "\n",
    "prob = tf.nn.sigmoid(test_data)\n",
    "\n",
    "\n",
    "label = np.random.randint(0, 2, 10).astype(test_data.dtype)\n",
    "print (label)\n",
    "\n",
    "\n",
    "\n",
    "((tf.reduce_mean(tf.nn.sigmoid_cross_entropy_with_logits(label, test_data))- sigmoid_ce(prob, label))**2 < 0.0001).numpy()"
   ]
  },
  {
   "cell_type": "code",
   "execution_count": null,
   "metadata": {},
   "outputs": [],
   "source": []
  }
 ],
 "metadata": {
  "kernelspec": {
   "display_name": "Python 3",
   "language": "python",
   "name": "python3"
  },
  "language_info": {
   "codemirror_mode": {
    "name": "ipython",
    "version": 3
   },
   "file_extension": ".py",
   "mimetype": "text/x-python",
   "name": "python",
   "nbconvert_exporter": "python",
   "pygments_lexer": "ipython3",
   "version": "3.11.5"
  }
 },
 "nbformat": 4,
 "nbformat_minor": 2
}
