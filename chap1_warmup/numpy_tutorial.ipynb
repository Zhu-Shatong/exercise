{
 "cells": [
  {
   "cell_type": "markdown",
   "metadata": {},
   "source": [
    "#                                           numpy 练习题"
   ]
  },
  {
   "cell_type": "markdown",
   "metadata": {
    "collapsed": true
   },
   "source": [
    " 2151131 朱沙桐 数据科学与大数据技术"
   ]
  },
  {
   "cell_type": "markdown",
   "metadata": {},
   "source": [
    "### numpy 的array操作"
   ]
  },
  {
   "cell_type": "markdown",
   "metadata": {},
   "source": [
    "#### 1.导入numpy库"
   ]
  },
  {
   "cell_type": "code",
   "execution_count": 1,
   "metadata": {
    "collapsed": true
   },
   "outputs": [
    {
     "name": "stdout",
     "output_type": "stream",
     "text": [
      "NumPy version: 1.23.1\n"
     ]
    }
   ],
   "source": [
    "import numpy as np\n",
    "\n",
    "print(\"NumPy version:\", np.__version__)"
   ]
  },
  {
   "cell_type": "markdown",
   "metadata": {},
   "source": [
    "#### 2.建立一个一维数组 a 初始化为[4,5,6], (1)输出a 的类型（type）(2)输出a的各维度的大小（shape）(3)输出 a的第一个元素（值为4）"
   ]
  },
  {
   "cell_type": "code",
   "execution_count": 2,
   "metadata": {
    "collapsed": true
   },
   "outputs": [
    {
     "name": "stdout",
     "output_type": "stream",
     "text": [
      "Type of a: <class 'numpy.ndarray'>\n",
      "Shape of a: (3,)\n",
      "First element of a: 4\n"
     ]
    }
   ],
   "source": [
    "a = np.array([4, 5, 6])\n",
    "\n",
    "# (1) 输出a的类型（type）\n",
    "print(\"Type of a:\", type(a))\n",
    "\n",
    "# (2) 输出a的各维度的大小（shape）\n",
    "print(\"Shape of a:\", a.shape)\n",
    "\n",
    "# (3) 输出a的第一个元素（值为4）\n",
    "print(\"First element of a:\", a[0])"
   ]
  },
  {
   "cell_type": "markdown",
   "metadata": {},
   "source": [
    "#### 3.建立一个二维数组 b,初始化为 [ [4, 5, 6],[1, 2, 3]] (1)输出各维度的大小（shape）(2)输出 b(0,0)，b(0,1),b(1,1) 这三个元素（对应值分别为4,5,2）"
   ]
  },
  {
   "cell_type": "code",
   "execution_count": 3,
   "metadata": {
    "collapsed": true
   },
   "outputs": [
    {
     "name": "stdout",
     "output_type": "stream",
     "text": [
      "Shape of b: (2, 3)\n",
      "Element b(0,0): 4\n",
      "Element b(0,1): 5\n",
      "Element b(1,1): 2\n"
     ]
    }
   ],
   "source": [
    "# 建立二维数组 b\n",
    "b = np.array([[4, 5, 6], [1, 2, 3]])\n",
    "\n",
    "# (1) 输出各维度的大小（shape）\n",
    "print(\"Shape of b:\", b.shape)\n",
    "\n",
    "# (2) 输出 b(0,0)，b(0,1),b(1,1) 这三个元素\n",
    "print(\"Element b(0,0):\", b[0, 0])\n",
    "print(\"Element b(0,1):\", b[0, 1])\n",
    "print(\"Element b(1,1):\", b[1, 1])"
   ]
  },
  {
   "cell_type": "markdown",
   "metadata": {},
   "source": [
    "#### 4.  (1)建立一个全0矩阵 a, 大小为 3x3; 类型为整型（提示: dtype = int）(2)建立一个全1矩阵b,大小为4x5;  (3)建立一个单位矩阵c ,大小为4x4; (4)生成一个随机数矩阵d,大小为 3x2."
   ]
  },
  {
   "cell_type": "code",
   "execution_count": 4,
   "metadata": {
    "collapsed": true
   },
   "outputs": [
    {
     "name": "stdout",
     "output_type": "stream",
     "text": [
      "(1) Matrix a (3x3) filled with zeros:\n",
      " [[0 0 0]\n",
      " [0 0 0]\n",
      " [0 0 0]]\n",
      "\n",
      "(2) Matrix b (4x5) filled with ones:\n",
      " [[1. 1. 1. 1. 1.]\n",
      " [1. 1. 1. 1. 1.]\n",
      " [1. 1. 1. 1. 1.]\n",
      " [1. 1. 1. 1. 1.]]\n",
      "\n",
      "(3) Identity matrix c (4x4):\n",
      " [[1. 0. 0. 0.]\n",
      " [0. 1. 0. 0.]\n",
      " [0. 0. 1. 0.]\n",
      " [0. 0. 0. 1.]]\n",
      "\n",
      "(4) Random matrix d (3x2):\n",
      " [[0.46962595 0.87918313]\n",
      " [0.29039615 0.8851262 ]\n",
      " [0.50705903 0.95636338]]\n"
     ]
    }
   ],
   "source": [
    "# (1) 建立一个全0矩阵 a, 大小为 3x3; 类型为整型\n",
    "a = np.zeros((3, 3), dtype=int) \n",
    "print(\"(1) Matrix a (3x3) filled with zeros:\\n\", a)\n",
    "\n",
    "# (2) 建立一个全1矩阵b,大小为4x5\n",
    "b = np.ones((4, 5))\n",
    "print(\"\\n(2) Matrix b (4x5) filled with ones:\\n\", b)\n",
    "\n",
    "# (3) 建立一个单位矩阵c ,大小为4x4\n",
    "c = np.eye(4)\n",
    "print(\"\\n(3) Identity matrix c (4x4):\\n\", c)\n",
    "\n",
    "# (4) 生成一个随机数矩阵d,大小为 3x2\n",
    "d = np.random.random((3, 2))\n",
    "print(\"\\n(4) Random matrix d (3x2):\\n\", d)"
   ]
  },
  {
   "cell_type": "markdown",
   "metadata": {},
   "source": [
    "#### 5. 建立一个数组 a,(值为[[1, 2, 3, 4], [5, 6, 7, 8], [9, 10, 11, 12]] ) ,(1)打印a; (2)输出  下标为(2,3),(0,0) 这两个数组元素的值"
   ]
  },
  {
   "cell_type": "code",
   "execution_count": 5,
   "metadata": {
    "collapsed": true
   },
   "outputs": [
    {
     "name": "stdout",
     "output_type": "stream",
     "text": [
      "(1) Array a:\n",
      " [[ 1  2  3  4]\n",
      " [ 5  6  7  8]\n",
      " [ 9 10 11 12]]\n",
      "(2) Element at index (2,3): 12\n",
      "    Element at index (0,0): 1\n"
     ]
    }
   ],
   "source": [
    "# 建立数组a\n",
    "a = np.array([[1, 2, 3, 4], [5, 6, 7, 8], [9, 10, 11, 12]])\n",
    "\n",
    "# (1) 打印a\n",
    "print(\"(1) Array a:\\n\", a)\n",
    "\n",
    "# (2) 输出下标为(2,3),(0,0) 这两个数组元素的值\n",
    "print(\"(2) Element at index (2,3):\", a[2, 3])\n",
    "print(\"    Element at index (0,0):\", a[0, 0])"
   ]
  },
  {
   "cell_type": "markdown",
   "metadata": {},
   "source": [
    "#### 6.把上一题的 a数组的 0到1行 2到3列，放到b里面去，（此处不需要从新建立a,直接调用即可）(1),输出b;(2) 输出b 的（0,0）这个元素的值"
   ]
  },
  {
   "cell_type": "code",
   "execution_count": 6,
   "metadata": {
    "collapsed": true
   },
   "outputs": [
    {
     "name": "stdout",
     "output_type": "stream",
     "text": [
      "(1) Array b:\n",
      " [[3 4]\n",
      " [7 8]]\n",
      "(2) Element at index (0,0) of b: 3\n"
     ]
    }
   ],
   "source": [
    "# 切片操作获取数组a的0到1行、2到3列的子数组，并赋值给b\n",
    "b = a[0:2, 2:4]\n",
    "\n",
    "# (1) 输出b\n",
    "print(\"(1) Array b:\\n\", b)\n",
    "\n",
    "# (2) 输出b的(0,0)这个元素的值\n",
    "print(\"(2) Element at index (0,0) of b:\", b[0, 0])"
   ]
  },
  {
   "cell_type": "markdown",
   "metadata": {},
   "source": [
    " #### 7. 把第5题中数组a的最后两行所有元素放到 c中，（提示： a[1:2, :]）(1)输出 c ; (2) 输出 c 中第一行的最后一个元素（提示，使用 -1                 表示最后一个元素）"
   ]
  },
  {
   "cell_type": "code",
   "execution_count": 7,
   "metadata": {
    "collapsed": true
   },
   "outputs": [
    {
     "name": "stdout",
     "output_type": "stream",
     "text": [
      "(1) Array c:\n",
      " [[ 5  6  7  8]\n",
      " [ 9 10 11 12]]\n",
      "(2) Last element of the first row in c: 8\n"
     ]
    }
   ],
   "source": [
    "# 获取数组a的最后两行所有元素，并赋值给c\n",
    "c = a[1:, :]\n",
    "\n",
    "# (1) 输出c\n",
    "print(\"(1) Array c:\\n\", c)\n",
    "\n",
    "# (2) 输出c中第一行的最后一个元素\n",
    "print(\"(2) Last element of the first row in c:\", c[0, -1])"
   ]
  },
  {
   "cell_type": "markdown",
   "metadata": {},
   "source": [
    "#### 8.建立数组a,初始化a为[[1, 2], [3, 4], [5, 6]]，输出 （0,0）（1,1）（2,0）这三个元素（提示： 使用 print(a[[0, 1, 2], [0, 1, 0]]) ）"
   ]
  },
  {
   "cell_type": "code",
   "execution_count": 8,
   "metadata": {
    "collapsed": true
   },
   "outputs": [
    {
     "name": "stdout",
     "output_type": "stream",
     "text": [
      "Elements at specified indices: [1 4 5]\n"
     ]
    }
   ],
   "source": [
    "# 建立数组a并初始化\n",
    "a = np.array([[1, 2], [3, 4], [5, 6]])\n",
    "\n",
    "# 输出指定位置的元素\n",
    "print(\"Elements at specified indices:\", a[[0, 1, 2], [0, 1, 0]])"
   ]
  },
  {
   "cell_type": "markdown",
   "metadata": {},
   "source": [
    "#### 9.建立矩阵a ,初始化为[[1, 2, 3], [4, 5, 6], [7, 8, 9], [10, 11, 12]]，输出(0,0),(1,2),(2,0),(3,1) (提示使用 b = np.array([0, 2, 0, 1])                     print(a[np.arange(4), b]))"
   ]
  },
  {
   "cell_type": "code",
   "execution_count": 9,
   "metadata": {
    "collapsed": true
   },
   "outputs": [
    {
     "name": "stdout",
     "output_type": "stream",
     "text": [
      "Elements at specified indices: [ 1  6  7 11]\n"
     ]
    }
   ],
   "source": [
    "# 建立矩阵a并初始化\n",
    "a = np.array([[1, 2, 3], [4, 5, 6], [7, 8, 9], [10, 11, 12]])\n",
    "\n",
    "# 定义索引数组b\n",
    "b = np.array([0, 2, 0, 1])  # 这是纵坐标的索引\n",
    "\n",
    "# 输出指定位置的元素\n",
    "print(\"Elements at specified indices:\", a[np.arange(4), b]) # arranges(4)生成[0,1,2,3]"
   ]
  },
  {
   "cell_type": "markdown",
   "metadata": {},
   "source": [
    "#### 10.对9 中输出的那四个元素，每个都加上10，然后重新输出矩阵a.(提示： a[np.arange(4), b] += 10 ）"
   ]
  },
  {
   "cell_type": "code",
   "execution_count": 10,
   "metadata": {
    "collapsed": true
   },
   "outputs": [
    {
     "name": "stdout",
     "output_type": "stream",
     "text": [
      "Matrix a after addition: [[11  2  3]\n",
      " [ 4  5 16]\n",
      " [17  8  9]\n",
      " [10 21 12]]\n"
     ]
    }
   ],
   "source": [
    "# 对指定位置的元素加上10\n",
    "a[np.arange(4), b] += 10\n",
    "\n",
    "# 重新输出矩阵a\n",
    "print(\"Matrix a after addition:\", a)"
   ]
  },
  {
   "cell_type": "markdown",
   "metadata": {},
   "source": [
    "### array 的数学运算"
   ]
  },
  {
   "cell_type": "markdown",
   "metadata": {},
   "source": [
    "#### 11.  执行 x = np.array([1, 2])，然后输出 x 的数据类型"
   ]
  },
  {
   "cell_type": "code",
   "execution_count": 11,
   "metadata": {
    "collapsed": true
   },
   "outputs": [
    {
     "name": "stdout",
     "output_type": "stream",
     "text": [
      "Data type of x: int32\n"
     ]
    }
   ],
   "source": [
    "# 执行操作\n",
    "x = np.array([1, 2])\n",
    "\n",
    "# 输出x的数据类型\n",
    "print(\"Data type of x:\", x.dtype)"
   ]
  },
  {
   "cell_type": "markdown",
   "metadata": {},
   "source": [
    "#### 12.执行 x = np.array([1.0, 2.0]) ，然后输出 x 的数据类类型"
   ]
  },
  {
   "cell_type": "code",
   "execution_count": 12,
   "metadata": {
    "collapsed": true
   },
   "outputs": [
    {
     "name": "stdout",
     "output_type": "stream",
     "text": [
      "Data type of x: float64\n"
     ]
    }
   ],
   "source": [
    "# 执行操作\n",
    "x = np.array([1.0, 2.0])\n",
    "\n",
    "# 输出x的数据类型\n",
    "print(\"Data type of x:\", x.dtype)"
   ]
  },
  {
   "cell_type": "markdown",
   "metadata": {},
   "source": [
    "#### 13.执行 x = np.array([[1, 2], [3, 4]], dtype=np.float64) ，y = np.array([[5, 6], [7, 8]], dtype=np.float64)，然后输出 x+y ,和 np.add(x,y)"
   ]
  },
  {
   "cell_type": "code",
   "execution_count": 13,
   "metadata": {
    "collapsed": true
   },
   "outputs": [
    {
     "name": "stdout",
     "output_type": "stream",
     "text": [
      "Sum of x and y:\n",
      "[[ 6.  8.]\n",
      " [10. 12.]]\n",
      "\n",
      "np.add(x,y):\n",
      "[[ 6.  8.]\n",
      " [10. 12.]]\n"
     ]
    }
   ],
   "source": [
    "# 执行操作\n",
    "x = np.array([[1, 2], [3, 4]], dtype=np.float64)\n",
    "y = np.array([[5, 6], [7, 8]], dtype=np.float64)\n",
    "\n",
    "# 输出 x+y\n",
    "print(\"Sum of x and y:\")\n",
    "print(x + y)\n",
    "\n",
    "# 输出 np.add(x,y)\n",
    "print(\"\\nnp.add(x,y):\")\n",
    "print(np.add(x, y))"
   ]
  },
  {
   "cell_type": "markdown",
   "metadata": {},
   "source": [
    "#### 14. 利用 13题目中的x,y 输出 x-y 和 np.subtract(x,y)"
   ]
  },
  {
   "cell_type": "code",
   "execution_count": 14,
   "metadata": {
    "collapsed": true
   },
   "outputs": [
    {
     "name": "stdout",
     "output_type": "stream",
     "text": [
      "Difference of x and y:\n",
      "[[-4. -4.]\n",
      " [-4. -4.]]\n",
      "\n",
      "np.subtract(x,y):\n",
      "[[-4. -4.]\n",
      " [-4. -4.]]\n"
     ]
    }
   ],
   "source": [
    "# 输出 x-y\n",
    "print(\"Difference of x and y:\")\n",
    "print(x - y)\n",
    "\n",
    "# 输出 np.subtract(x,y)\n",
    "print(\"\\nnp.subtract(x,y):\")\n",
    "print(np.subtract(x, y))"
   ]
  },
  {
   "cell_type": "markdown",
   "metadata": {},
   "source": [
    "#### 15. 利用13题目中的x，y 输出 x*y ,和 np.multiply(x, y) 还有  np.dot(x,y),比较差异。然后自己换一个不是方阵的试试。"
   ]
  },
  {
   "cell_type": "code",
   "execution_count": 15,
   "metadata": {
    "collapsed": true
   },
   "outputs": [
    {
     "name": "stdout",
     "output_type": "stream",
     "text": [
      "Element-wise multiplication of x and y:\n",
      "[[ 5. 12.]\n",
      " [21. 32.]]\n",
      "\n",
      "np.multiply(x, y):\n",
      "[[ 5. 12.]\n",
      " [21. 32.]]\n",
      "\n",
      "np.dot(x, y):\n",
      "[[19. 22.]\n",
      " [43. 50.]]\n"
     ]
    }
   ],
   "source": [
    "# 输出 x*y\n",
    "print(\"Element-wise multiplication of x and y:\")\n",
    "print(x * y)\n",
    "\n",
    "# 输出 np.multiply(x, y)\n",
    "print(\"\\nnp.multiply(x, y):\")\n",
    "print(np.multiply(x, y))\n",
    "\n",
    "# 输出 np.dot(x, y)\n",
    "print(\"\\nnp.dot(x, y):\")\n",
    "print(np.dot(x, y))"
   ]
  },
  {
   "cell_type": "markdown",
   "metadata": {},
   "source": [
    "#### 16. 利用13题目中的x,y,输出 x / y .(提示 ： 使用函数 np.divide())"
   ]
  },
  {
   "cell_type": "code",
   "execution_count": 16,
   "metadata": {},
   "outputs": [
    {
     "name": "stdout",
     "output_type": "stream",
     "text": [
      "Element-wise division of x and y:\n",
      "[[0.2        0.33333333]\n",
      " [0.42857143 0.5       ]]\n"
     ]
    }
   ],
   "source": [
    "# 输出 x / y\n",
    "print(\"Element-wise division of x and y:\")\n",
    "print(np.divide(x, y))"
   ]
  },
  {
   "cell_type": "markdown",
   "metadata": {},
   "source": [
    "#### 17. 利用13题目中的x,输出 x的 开方。(提示： 使用函数 np.sqrt() )"
   ]
  },
  {
   "cell_type": "code",
   "execution_count": 17,
   "metadata": {
    "collapsed": true
   },
   "outputs": [
    {
     "name": "stdout",
     "output_type": "stream",
     "text": [
      "Element-wise division of x and y:\n",
      "[[0.2        0.33333333]\n",
      " [0.42857143 0.5       ]]\n"
     ]
    }
   ],
   "source": [
    "# 输出 x / y\n",
    "print(\"Element-wise division of x and y:\")\n",
    "print(np.divide(x, y))"
   ]
  },
  {
   "cell_type": "markdown",
   "metadata": {},
   "source": [
    "#### 18.利用13题目中的x,y ,执行 print(x.dot(y)) 和 print(np.dot(x,y))"
   ]
  },
  {
   "cell_type": "code",
   "execution_count": 18,
   "metadata": {
    "collapsed": true
   },
   "outputs": [
    {
     "name": "stdout",
     "output_type": "stream",
     "text": [
      "Result of x.dot(y):\n",
      "[[19. 22.]\n",
      " [43. 50.]]\n",
      "\n",
      "Result of np.dot(x, y):\n",
      "[[19. 22.]\n",
      " [43. 50.]]\n"
     ]
    }
   ],
   "source": [
    "# 输出 x.dot(y)\n",
    "print(\"Result of x.dot(y):\")\n",
    "print(x.dot(y))\n",
    "\n",
    "# 输出 np.dot(x, y)\n",
    "print(\"\\nResult of np.dot(x, y):\")\n",
    "print(np.dot(x, y))"
   ]
  },
  {
   "cell_type": "markdown",
   "metadata": {},
   "source": [
    "##### 19.利用13题目中的 x,进行求和。提示：输出三种求和 (1)print(np.sum(x)):   (2)print(np.sum(x，axis =0 ));   (3)print(np.sum(x,axis = 1))"
   ]
  },
  {
   "cell_type": "code",
   "execution_count": 19,
   "metadata": {
    "collapsed": true
   },
   "outputs": [
    {
     "name": "stdout",
     "output_type": "stream",
     "text": [
      "(1) Sum of all elements in x:\n",
      "10.0\n",
      "\n",
      "(2) Sum of elements along axis 0 (column-wise sum):\n",
      "[4. 6.]\n",
      "\n",
      "(3) Sum of elements along axis 1 (row-wise sum):\n",
      "[3. 7.]\n"
     ]
    }
   ],
   "source": [
    "# 输出总和\n",
    "print(\"(1) Sum of all elements in x:\")\n",
    "print(np.sum(x))\n",
    "\n",
    "# 沿着列的方向求和\n",
    "print(\"\\n(2) Sum of elements along axis 0 (column-wise sum):\")\n",
    "print(np.sum(x, axis=0))\n",
    "\n",
    "# 沿着行的方向求和\n",
    "print(\"\\n(3) Sum of elements along axis 1 (row-wise sum):\")\n",
    "print(np.sum(x, axis=1))"
   ]
  },
  {
   "cell_type": "markdown",
   "metadata": {},
   "source": [
    "#### 20.利用13题目中的 x,进行求平均数（提示：输出三种平均数(1)print(np.mean(x)) (2)print(np.mean(x,axis = 0))(3) print(np.mean(x,axis =1))）"
   ]
  },
  {
   "cell_type": "code",
   "execution_count": 20,
   "metadata": {
    "collapsed": true
   },
   "outputs": [
    {
     "name": "stdout",
     "output_type": "stream",
     "text": [
      "(1) Mean of all elements in x:\n",
      "2.5\n",
      "\n",
      "(2) Mean of elements along axis 0 (column-wise mean):\n",
      "[2. 3.]\n",
      "\n",
      "(3) Mean of elements along axis 1 (row-wise mean):\n",
      "[1.5 3.5]\n"
     ]
    }
   ],
   "source": [
    "# 输出总平均数\n",
    "print(\"(1) Mean of all elements in x:\")\n",
    "print(np.mean(x))\n",
    "\n",
    "# 沿着列的方向计算平均数\n",
    "print(\"\\n(2) Mean of elements along axis 0 (column-wise mean):\")\n",
    "print(np.mean(x, axis=0))\n",
    "\n",
    "# 沿着行的方向计算平均数\n",
    "print(\"\\n(3) Mean of elements along axis 1 (row-wise mean):\")\n",
    "print(np.mean(x, axis=1))"
   ]
  },
  {
   "cell_type": "markdown",
   "metadata": {},
   "source": [
    "#### 21.利用13题目中的x，对x 进行矩阵转置，然后输出转置后的结果，（提示： x.T 表示对 x 的转置）"
   ]
  },
  {
   "cell_type": "code",
   "execution_count": 21,
   "metadata": {
    "collapsed": true
   },
   "outputs": [
    {
     "name": "stdout",
     "output_type": "stream",
     "text": [
      "Transpose of x:\n",
      "[[1. 3.]\n",
      " [2. 4.]]\n"
     ]
    }
   ],
   "source": [
    "# 对x进行转置，并输出结果\n",
    "print(\"Transpose of x:\")\n",
    "print(x.T)"
   ]
  },
  {
   "cell_type": "markdown",
   "metadata": {
    "collapsed": true
   },
   "source": [
    "#### 22.利用13题目中的x,求e的指数（提示： 函数 np.exp()）"
   ]
  },
  {
   "cell_type": "code",
   "execution_count": 22,
   "metadata": {
    "collapsed": true
   },
   "outputs": [
    {
     "name": "stdout",
     "output_type": "stream",
     "text": [
      "Exponential of x:\n",
      "[[ 2.71828183  7.3890561 ]\n",
      " [20.08553692 54.59815003]]\n"
     ]
    }
   ],
   "source": [
    "# 对x求e的指数，并输出结果\n",
    "print(\"Exponential of x:\")\n",
    "print(np.exp(x))"
   ]
  },
  {
   "cell_type": "markdown",
   "metadata": {},
   "source": [
    "#### 23.利用13题目中的 x,求值最大的下标（提示(1)print(np.argmax(x)) ,(2) print(np.argmax(x, axis =0))(3)print(np.argmax(x),axis =1))"
   ]
  },
  {
   "cell_type": "code",
   "execution_count": 23,
   "metadata": {},
   "outputs": [
    {
     "name": "stdout",
     "output_type": "stream",
     "text": [
      "(1) Index of maximum value in x (flattened index):\n",
      "3\n",
      "\n",
      "(2) Indices of maximum value along axis 0 (column-wise indices):\n",
      "[1 1]\n",
      "\n",
      "(3) Indices of maximum value along axis 1 (row-wise indices):\n",
      "[1 1]\n"
     ]
    }
   ],
   "source": [
    "# 输出值最大的元素的索引（扁平化的索引）\n",
    "print(\"(1) Index of maximum value in x (flattened index):\")\n",
    "print(np.argmax(x))\n",
    "\n",
    "# 沿着列的方向输出值最大的元素的索引\n",
    "print(\"\\n(2) Indices of maximum value along axis 0 (column-wise indices):\")\n",
    "print(np.argmax(x, axis=0))\n",
    "\n",
    "# 沿着行的方向输出值最大的元素的索引\n",
    "print(\"\\n(3) Indices of maximum value along axis 1 (row-wise indices):\")\n",
    "print(np.argmax(x, axis=1))"
   ]
  },
  {
   "cell_type": "markdown",
   "metadata": {},
   "source": [
    "#### 24,画图，y=x*x 其中 x = np.arange(0, 100, 0.1) （提示这里用到  matplotlib.pyplot 库）"
   ]
  },
  {
   "cell_type": "code",
   "execution_count": 24,
   "metadata": {
    "collapsed": true
   },
   "outputs": [
    {
     "data": {
      "image/png": "[encoded data removed]",
      "text/plain": [
       "<Figure size 640x480 with 1 Axes>"
      ]
     },
     "metadata": {},
     "output_type": "display_data"
    }
   ],
   "source": [
    "import matplotlib.pyplot as plt\n",
    "\n",
    "# 生成x的值\n",
    "x = np.arange(0, 100, 0.1)\n",
    "\n",
    "# 计算对应的y值\n",
    "y = x * x\n",
    "\n",
    "# 绘制图形\n",
    "plt.plot(x, y)\n",
    "plt.title('y = x*x')\n",
    "plt.xlabel('x')\n",
    "plt.ylabel('y')\n",
    "plt.grid(True)\n",
    "plt.show()"
   ]
  },
  {
   "cell_type": "markdown",
   "metadata": {},
   "source": [
    "#### 25.画图。画正弦函数和余弦函数， x = np.arange(0, 3 * np.pi, 0.1)(提示：这里用到 np.sin() np.cos() 函数和 matplotlib.pyplot 库)"
   ]
  },
  {
   "cell_type": "code",
   "execution_count": 25,
   "metadata": {
    "collapsed": true
   },
   "outputs": [
    {
     "data": {
      "image/png": "[encoded data removed]",
      "text/plain": [
       "<Figure size 640x480 with 1 Axes>"
      ]
     },
     "metadata": {},
     "output_type": "display_data"
    }
   ],
   "source": [
    "# 生成x的值\n",
    "x = np.arange(0, 3 * np.pi, 0.1)\n",
    "\n",
    "# 计算正弦函数和余弦函数的值\n",
    "y_sin = np.sin(x)\n",
    "y_cos = np.cos(x)\n",
    "\n",
    "# 绘制正弦函数的图形\n",
    "plt.plot(x, y_sin, label='Sin')\n",
    "# 绘制余弦函数的图形\n",
    "plt.plot(x, y_cos, label='Cos')\n",
    "plt.title('Sin and Cos Functions')\n",
    "plt.xlabel('x')\n",
    "plt.ylabel('y')\n",
    "plt.legend()\n",
    "plt.grid(True)\n",
    "plt.show()"
   ]
  }
 ],
 "metadata": {
  "anaconda-cloud": {},
  "kernelspec": {
   "display_name": "Python 3",
   "language": "python",
   "name": "python3"
  },
  "language_info": {
   "codemirror_mode": {
    "name": "ipython",
    "version": 3
   },
   "file_extension": ".py",
   "mimetype": "text/x-python",
   "name": "python",
   "nbconvert_exporter": "python",
   "pygments_lexer": "ipython3",
   "version": "3.11.5"
  }
 },
 "nbformat": 4,
 "nbformat_minor": 1
}
